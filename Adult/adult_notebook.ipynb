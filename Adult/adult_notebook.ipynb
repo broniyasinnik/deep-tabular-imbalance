{
 "cells": [
  {
   "cell_type": "code",
   "execution_count": 14,
   "metadata": {},
   "outputs": [
    {
     "name": "stdout",
     "output_type": "stream",
     "text": [
      "The autoreload extension is already loaded. To reload it, use:\n",
      "  %reload_ext autoreload\n"
     ]
    }
   ],
   "source": [
    "import catboost\n",
    "import numpy as np\n",
    "import pandas as pd\n",
    "import os\n",
    "import sys\n",
    "from catboost.datasets import adult\n",
    "from sklearn.preprocessing import StandardScaler\n",
    "from sklearn.preprocessing import LabelBinarizer\n",
    "from sklearn.model_selection import train_test_split\n",
    "from category_encoders.cat_boost import CatBoostEncoder\n",
    "from category_encoders.target_encoder import TargetEncoder\n",
    "from sklearn.compose import ColumnTransformer\n",
    "from data_utils import create_imbalanced_dataset\n",
    "from data_utils import resample_with_smote\n",
    "\n",
    "sys.path.insert(0, '..')\n",
    "%load_ext autoreload\n",
    "%autoreload 2\n",
    "%matplotlib inline"
   ]
  },
  {
   "cell_type": "markdown",
   "metadata": {},
   "source": [
    "# Fetching adult dataset"
   ]
  },
  {
   "cell_type": "code",
   "execution_count": 40,
   "metadata": {},
   "outputs": [
    {
     "data": {
      "text/html": [
       "<div>\n",
       "<style scoped>\n",
       "    .dataframe tbody tr th:only-of-type {\n",
       "        vertical-align: middle;\n",
       "    }\n",
       "\n",
       "    .dataframe tbody tr th {\n",
       "        vertical-align: top;\n",
       "    }\n",
       "\n",
       "    .dataframe thead th {\n",
       "        text-align: right;\n",
       "    }\n",
       "</style>\n",
       "<table border=\"1\" class=\"dataframe\">\n",
       "  <thead>\n",
       "    <tr style=\"text-align: right;\">\n",
       "      <th></th>\n",
       "      <th>age</th>\n",
       "      <th>workclass</th>\n",
       "      <th>fnlwgt</th>\n",
       "      <th>education</th>\n",
       "      <th>education-num</th>\n",
       "      <th>marital-status</th>\n",
       "      <th>occupation</th>\n",
       "      <th>relationship</th>\n",
       "      <th>race</th>\n",
       "      <th>sex</th>\n",
       "      <th>capital-gain</th>\n",
       "      <th>capital-loss</th>\n",
       "      <th>hours-per-week</th>\n",
       "      <th>native-country</th>\n",
       "      <th>income</th>\n",
       "    </tr>\n",
       "  </thead>\n",
       "  <tbody>\n",
       "    <tr>\n",
       "      <th>0</th>\n",
       "      <td>39.0</td>\n",
       "      <td>State-gov</td>\n",
       "      <td>77516.0</td>\n",
       "      <td>Bachelors</td>\n",
       "      <td>13.0</td>\n",
       "      <td>Never-married</td>\n",
       "      <td>Adm-clerical</td>\n",
       "      <td>Not-in-family</td>\n",
       "      <td>White</td>\n",
       "      <td>Male</td>\n",
       "      <td>2174.0</td>\n",
       "      <td>0.0</td>\n",
       "      <td>40.0</td>\n",
       "      <td>United-States</td>\n",
       "      <td>&lt;=50K</td>\n",
       "    </tr>\n",
       "    <tr>\n",
       "      <th>1</th>\n",
       "      <td>50.0</td>\n",
       "      <td>Self-emp-not-inc</td>\n",
       "      <td>83311.0</td>\n",
       "      <td>Bachelors</td>\n",
       "      <td>13.0</td>\n",
       "      <td>Married-civ-spouse</td>\n",
       "      <td>Exec-managerial</td>\n",
       "      <td>Husband</td>\n",
       "      <td>White</td>\n",
       "      <td>Male</td>\n",
       "      <td>0.0</td>\n",
       "      <td>0.0</td>\n",
       "      <td>13.0</td>\n",
       "      <td>United-States</td>\n",
       "      <td>&lt;=50K</td>\n",
       "    </tr>\n",
       "    <tr>\n",
       "      <th>2</th>\n",
       "      <td>38.0</td>\n",
       "      <td>Private</td>\n",
       "      <td>215646.0</td>\n",
       "      <td>HS-grad</td>\n",
       "      <td>9.0</td>\n",
       "      <td>Divorced</td>\n",
       "      <td>Handlers-cleaners</td>\n",
       "      <td>Not-in-family</td>\n",
       "      <td>White</td>\n",
       "      <td>Male</td>\n",
       "      <td>0.0</td>\n",
       "      <td>0.0</td>\n",
       "      <td>40.0</td>\n",
       "      <td>United-States</td>\n",
       "      <td>&lt;=50K</td>\n",
       "    </tr>\n",
       "  </tbody>\n",
       "</table>\n",
       "</div>"
      ],
      "text/plain": [
       "    age         workclass    fnlwgt  education  education-num  \\\n",
       "0  39.0         State-gov   77516.0  Bachelors           13.0   \n",
       "1  50.0  Self-emp-not-inc   83311.0  Bachelors           13.0   \n",
       "2  38.0           Private  215646.0    HS-grad            9.0   \n",
       "\n",
       "       marital-status         occupation   relationship   race   sex  \\\n",
       "0       Never-married       Adm-clerical  Not-in-family  White  Male   \n",
       "1  Married-civ-spouse    Exec-managerial        Husband  White  Male   \n",
       "2            Divorced  Handlers-cleaners  Not-in-family  White  Male   \n",
       "\n",
       "   capital-gain  capital-loss  hours-per-week native-country income  \n",
       "0        2174.0           0.0            40.0  United-States  <=50K  \n",
       "1           0.0           0.0            13.0  United-States  <=50K  \n",
       "2           0.0           0.0            40.0  United-States  <=50K  "
      ]
     },
     "execution_count": 40,
     "metadata": {},
     "output_type": "execute_result"
    }
   ],
   "source": [
    "if os.path.exists('adult_full.csv'):\n",
    "    adult_full = pd.read_csv('adult_full.csv')\n",
    "else:\n",
    "    adult_train, adult_test = adult()\n",
    "    adult_train.to_csv('adult_train.csv', index=False)\n",
    "    adult_test.to_csv('adult_test.csv', index=False)\n",
    "    adult_full = pd.concat([adult_train, adult_test], axis=0)\n",
    "    adult_full.to_csv('adult_full.csv', index=False)\n",
    "    \n",
    "adult_full.head(3)"
   ]
  },
  {
   "cell_type": "code",
   "execution_count": 41,
   "metadata": {},
   "outputs": [],
   "source": [
    "lb = LabelBinarizer()\n",
    "y = adult_full['income']\n",
    "y = lb.fit_transform(y)\n",
    "X = adult_full.drop('income', axis=1)\n"
   ]
  },
  {
   "cell_type": "code",
   "execution_count": 42,
   "metadata": {},
   "outputs": [
    {
     "name": "stderr",
     "output_type": "stream",
     "text": [
      "/Users/broniyasinnik/PycharmProjects/bigdata/ml/lib/python3.8/site-packages/category_encoders/utils.py:21: FutureWarning:\n",
      "\n",
      "is_categorical is deprecated and will be removed in a future version.  Use is_categorical_dtype instead\n",
      "\n"
     ]
    }
   ],
   "source": [
    "\n",
    "numeric_features = ['age', 'fnlwgt', 'education-num', 'capital-gain', 'capital-loss', 'hours-per-week']\n",
    "numeric_transformer = StandardScaler()\n",
    "\n",
    "categorical_features = ['education', 'marital-status', 'native-country', 'occupation', 'race', 'relationship', 'sex', 'workclass']\n",
    "categorical_transformer = TargetEncoder()\n",
    "\n",
    "preprocessor = ColumnTransformer(\n",
    "    transformers=[\n",
    "        ('num', numeric_transformer, numeric_features),\n",
    "        ('cat', categorical_transformer, categorical_features)])\n",
    "\n",
    "X = preprocessor.fit_transform(X, y)"
   ]
  },
  {
   "cell_type": "markdown",
   "metadata": {},
   "source": [
    "# Create artificial imbalance"
   ]
  },
  {
   "cell_type": "code",
   "execution_count": 49,
   "metadata": {},
   "outputs": [],
   "source": [
    "ir = 200\n",
    "imb_data = create_imbalanced_dataset(X, y, ir)\n",
    "x_imb = imb_data[\"X_imb\"]\n",
    "y_imb = imb_data[\"y_imb\"]\n",
    "x_drop = imb_data[\"X_drop\"]\n",
    "y_drop = imb_data[\"y_drop\"]\n",
    "X_train, X_test, y_train, y_test = train_test_split(x_imb, y_imb, test_size=0.2, stratify=y_imb, random_state=42)\n"
   ]
  },
  {
   "cell_type": "code",
   "execution_count": 50,
   "metadata": {},
   "outputs": [
    {
     "name": "stdout",
     "output_type": "stream",
     "text": [
      "Shape X train: (29872, 14)  Num minority: 148\n",
      "Shape X test: (7468, 14)  Num minority: 37\n",
      "Shape X dropped: (11502, 14)  Num minority: 11502\n",
      "IR train is: 200.83783783783784\n",
      "IR test is: 200.83783783783784\n"
     ]
    }
   ],
   "source": [
    "print(\"Shape X train:\", X_train.shape, \" Num minority:\", y_train.sum())\n",
    "print(\"Shape X test:\", X_test.shape, \" Num minority:\", y_test.sum())\n",
    "print(\"Shape X dropped:\", x_drop.shape, \" Num minority:\", y_drop.sum())\n",
    "print(\"IR train is:\", (y_train==0).sum()/(y_train==1).sum())\n",
    "print(\"IR test is:\", (y_test==0).sum()/(y_test==1).sum())"
   ]
  },
  {
   "cell_type": "code",
   "execution_count": 51,
   "metadata": {},
   "outputs": [],
   "source": [
    "np.savez(f\"./ir{ir}/adult_ir{ir}.tra.npz\", X=X_train, y=y_train)\n",
    "np.savez(f\"./ir{ir}/adult_ir{ir}.tst.npz\", X=X_test, y=y_test)\n",
    "np.savez(f\"./ir{ir}/adult_ir{ir}.hout.npz\", X=x_drop, y=y_drop)"
   ]
  },
  {
   "cell_type": "code",
   "execution_count": 52,
   "metadata": {},
   "outputs": [],
   "source": [
    "resample_with_smote(f\"./ir{ir}/adult_ir{ir}.tra.npz\")"
   ]
  },
  {
   "cell_type": "code",
   "execution_count": 94,
   "metadata": {},
   "outputs": [
    {
     "data": {
      "text/plain": [
       "DescribeResult(nobs=30318, minmax=(array([-1.57862888e+00, -1.66825021e+00, -3.53102982e+00, -1.44803531e-01,\n",
       "       -2.17127099e-01, -3.18145213e+00,  1.20481928e-02,  4.54799280e-02,\n",
       "        3.40909091e-02,  1.23966942e-02,  1.17021277e-01,  1.46418678e-02,\n",
       "        1.09251482e-01,  2.95260720e-05]), array([ 3.74580818, 12.31723105,  2.30339745, 13.27438165, 10.59179446,\n",
       "        4.72731162,  0.73980815,  0.44613253,  0.42105263,  0.47781794,\n",
       "        0.26925609,  0.46889747,  0.30376723,  0.55339233])), mean=array([-0.12197922,  0.00387337, -0.16898232, -0.1162181 , -0.07627659,\n",
       "       -0.11652415,  0.20983354,  0.19442063,  0.23725293,  0.21281108,\n",
       "        0.23687915,  0.19322219,  0.22912523,  0.23181235]), variance=array([1.04883314, 1.02203414, 0.90142969, 0.07384563, 0.63591372,\n",
       "       0.99954889, 0.01726079, 0.03336263, 0.00189666, 0.01989126,\n",
       "       0.00205577, 0.03419024, 0.00894791, 0.00461523]), skewness=array([ 0.74118145,  1.49785203, -0.41324402, 34.71303296,  5.80445811,\n",
       "        0.21546246,  1.50669504,  0.62871179, -2.80132748,  0.67570728,\n",
       "       -2.16324794,  0.618176  , -0.47817807,  2.02215665]), kurtosis=array([-1.25215098e-02,  6.85879794e+00,  9.65633004e-01,  1.59659007e+03,\n",
       "        3.43521174e+01,  2.87984770e+00,  2.41114095e+00, -1.55902901e+00,\n",
       "        1.23030688e+01, -6.93531357e-01,  2.71505403e+00, -1.49515821e+00,\n",
       "       -1.77134573e+00,  9.38327573e+00]))"
      ]
     },
     "execution_count": 94,
     "metadata": {},
     "output_type": "execute_result"
    }
   ],
   "source": [
    "from scipy.stats import describe\n",
    "describe(X_train)"
   ]
  },
  {
   "cell_type": "markdown",
   "metadata": {},
   "source": [
    "# Results"
   ]
  },
  {
   "cell_type": "code",
   "execution_count": 4,
   "metadata": {},
   "outputs": [],
   "source": [
    "import plotly.graph_objects as go\n",
    "import matplotlib.pyplot as plt"
   ]
  },
  {
   "cell_type": "code",
   "execution_count": 9,
   "metadata": {},
   "outputs": [
    {
     "data": {
      "image/png": "[encoded data removed]",
      "text/plain": [
       "<Figure size 640x480 with 1 Axes>"
      ]
     },
     "metadata": {},
     "output_type": "display_data"
    }
   ],
   "source": [
    "ir = 200\n",
    "pr_up = pd.read_csv(f'./ir{ir}/logs/upsampling/results/pr.csv')\n",
    "pr_smote = pd.read_csv(f'./ir{ir}/logs/smote/results/pr.csv')\n",
    "pr_poten = pd.read_csv(f'./ir{ir}/logs/potential/results/pr.csv')\n",
    "pr_meta = pd.read_csv(f'./ir{ir}/logs/meta/results/pr.csv')\n",
    "plt.plot(pr_up['recall'], pr_up['precision'], label='upsampling', color='green')\n",
    "plt.plot(pr_smote['recall'], pr_smote['precision'], label='smote', color='blue')\n",
    "plt.plot(pr_poten['recall'], pr_poten['precision'], label='potential', linestyle='--', color='Indigo')\n",
    "plt.plot(pr_meta['recall'], pr_meta['precision'], label='meta', color='red')\n",
    "plt.xlabel('Recall', fontsize=15)\n",
    "plt.ylabel('Precision', fontsize=15)\n",
    "plt.minorticks_on()\n",
    "plt.grid(b=True, color='aqua', alpha=0.3, linestyle='-.', linewidth=1)\n",
    "plt.title(f\"Adult PR Curve (IR {ir}:1)\")\n",
    "plt.legend()\n",
    "plt.show()"
   ]
  },
  {
   "cell_type": "code",
   "execution_count": 29,
   "metadata": {},
   "outputs": [
    {
     "name": "stdout",
     "output_type": "stream",
     "text": [
      "Experiment on Adult ir50 with downsampling\n",
      "Experiment on Adult ir50 with smote\n",
      "Experiment on Adult ir50 with meta\n",
      "Experiment on Adult ir50 with potential\n",
      "Experiment on Adult ir50 with upsampling\n",
      "Experiment on Adult ir100 with downsampling\n",
      "Experiment on Adult ir100 with smote\n",
      "Experiment on Adult ir100 with meta\n",
      "Experiment on Adult ir100 with potential\n",
      "Experiment on Adult ir100 with upsampling\n",
      "Experiment on Adult ir200 with downsampling\n",
      "Experiment on Adult ir200 with smote\n",
      "Experiment on Adult ir200 with meta\n",
      "Experiment on Adult ir200 with potential\n",
      "Experiment on Adult ir200 with upsampling\n",
      "defaultdict(<class 'dict'>, {'downsampling': {'ir50': 0.5135135135135135, 'ir100': 0.4418604651162791, 'ir200': 0.3125}, 'smote': {'ir50': 0.4691358024691358, 'ir100': 0.40425531914893614, 'ir200': 0.12987012987012986}, 'meta': {'ir50': 0.5588235294117647, 'ir100': 0.4130434782608696, 'ir200': 0.15384615384615385}, 'potential': {'ir50': 0.6785714285714286, 'ir100': 0.7916666666666666, 'ir200': 0.38461538461538464}, 'upsampling': {'ir50': 0.4810126582278481, 'ir100': 0.59375, 'ir200': 0.17857142857142858}})\n"
     ]
    }
   ],
   "source": [
    "import glob\n",
    "import re\n",
    "from collections import defaultdict\n",
    "\n",
    "result_files = glob.glob(f'./*/logs/*/results/pr.csv')\n",
    "pattern = re.compile('\\./(?P<data_name>.*?)/logs/(?P<experiment_name>.*?)/results/pr\\.csv')\n",
    "d = defaultdict(dict)\n",
    "for path in result_files:\n",
    "    m = re.match(pattern, path)\n",
    "    data_name = m.group('data_name')\n",
    "    exper_name = m.group('experiment_name')\n",
    "    print(f'Experiment on Adult {data_name} with {exper_name}')\n",
    "    df = pd.read_csv(path)\n",
    "    df.sort_values(by='recall', ascending=False)\n",
    "    pr_val = df[df[\"recall\"]>=0.25].tail(1)['precision'].values[0]\n",
    "    d[exper_name][data_name] = pr_val\n",
    "#     print(df.head(10))\n",
    "#     break\n",
    "print(d)"
   ]
  },
  {
   "cell_type": "code",
   "execution_count": 32,
   "metadata": {},
   "outputs": [
    {
     "data": {
      "text/html": [
       "<div>\n",
       "<style scoped>\n",
       "    .dataframe tbody tr th:only-of-type {\n",
       "        vertical-align: middle;\n",
       "    }\n",
       "\n",
       "    .dataframe tbody tr th {\n",
       "        vertical-align: top;\n",
       "    }\n",
       "\n",
       "    .dataframe thead th {\n",
       "        text-align: right;\n",
       "    }\n",
       "</style>\n",
       "<table border=\"1\" class=\"dataframe\">\n",
       "  <thead>\n",
       "    <tr style=\"text-align: right;\">\n",
       "      <th>experiment</th>\n",
       "      <th>downsampling</th>\n",
       "      <th>meta</th>\n",
       "      <th>potential</th>\n",
       "      <th>smote</th>\n",
       "      <th>upsampling</th>\n",
       "    </tr>\n",
       "    <tr>\n",
       "      <th>dataset</th>\n",
       "      <th></th>\n",
       "      <th></th>\n",
       "      <th></th>\n",
       "      <th></th>\n",
       "      <th></th>\n",
       "    </tr>\n",
       "  </thead>\n",
       "  <tbody>\n",
       "    <tr>\n",
       "      <th>ir100</th>\n",
       "      <td>0.308394</td>\n",
       "      <td>0.333720</td>\n",
       "      <td>0.374926</td>\n",
       "      <td>0.289798</td>\n",
       "      <td>0.310713</td>\n",
       "    </tr>\n",
       "    <tr>\n",
       "      <th>ir200</th>\n",
       "      <td>0.224410</td>\n",
       "      <td>0.214286</td>\n",
       "      <td>0.300237</td>\n",
       "      <td>0.208440</td>\n",
       "      <td>0.204549</td>\n",
       "    </tr>\n",
       "    <tr>\n",
       "      <th>ir50</th>\n",
       "      <td>0.333668</td>\n",
       "      <td>0.348535</td>\n",
       "      <td>0.406871</td>\n",
       "      <td>0.312797</td>\n",
       "      <td>0.328996</td>\n",
       "    </tr>\n",
       "  </tbody>\n",
       "</table>\n",
       "</div>"
      ],
      "text/plain": [
       "experiment  downsampling      meta  potential     smote  upsampling\n",
       "dataset                                                            \n",
       "ir100           0.308394  0.333720   0.374926  0.289798    0.310713\n",
       "ir200           0.224410  0.214286   0.300237  0.208440    0.204549\n",
       "ir50            0.333668  0.348535   0.406871  0.312797    0.328996"
      ]
     },
     "execution_count": 32,
     "metadata": {},
     "output_type": "execute_result"
    }
   ],
   "source": [
    "import json\n",
    "result_files = glob.glob(f'./*/logs/*/results/metrics.json')\n",
    "pattern = re.compile('\\./(?P<data_name>.*?)/logs/(?P<experiment_name>.*?)/results/metrics\\.json')\n",
    "records = []\n",
    "for path in result_files:\n",
    "    m = re.match(pattern, path)\n",
    "    data_name = m.group('data_name')\n",
    "    exper_name = m.group('experiment_name')\n",
    "    with open(path) as f:\n",
    "        res = json.load(f)\n",
    "        records.append((data_name, exper_name, res['average_precision']))\n",
    "\n",
    "df = pd.DataFrame.from_records(records, columns=['dataset', 'experiment', 'ap'])\n",
    "df = df.pivot(index='dataset', columns='experiment', values='ap')\n",
    "df"
   ]
  },
  {
   "cell_type": "code",
   "execution_count": 47,
   "metadata": {},
   "outputs": [
    {
     "name": "stdout",
     "output_type": "stream",
     "text": [
      "Experiment on Adult ir50 with downsampling\n",
      "Experiment on Adult ir50 with smote\n",
      "Experiment on Adult ir50 with meta\n",
      "Experiment on Adult ir50 with potential\n",
      "Experiment on Adult ir50 with upsampling\n",
      "Experiment on Adult ir100 with downsampling\n",
      "Experiment on Adult ir100 with smote\n",
      "Experiment on Adult ir100 with meta\n",
      "Experiment on Adult ir100 with potential\n",
      "Experiment on Adult ir100 with upsampling\n",
      "Experiment on Adult ir200 with downsampling\n",
      "Experiment on Adult ir200 with smote\n",
      "Experiment on Adult ir200 with meta\n",
      "Experiment on Adult ir200 with potential\n",
      "Experiment on Adult ir200 with upsampling\n"
     ]
    },
    {
     "data": {
      "text/plain": [
       "defaultdict(dict,\n",
       "            {'downsampling': {'ir50': 0.28125006457399765,\n",
       "              'ir100': 0.229136424808902,\n",
       "              'ir200': 0.17440687143834754},\n",
       "             'smote': {'ir50': 0.27778699064391194,\n",
       "              'ir100': 0.22215266685583895,\n",
       "              'ir200': 0.1611463543677007},\n",
       "             'meta': {'ir50': 0.34247424457039094,\n",
       "              'ir100': 0.39237473587776117,\n",
       "              'ir200': 0.26723722751838525},\n",
       "             'potential': {'ir50': 0.3746548701233048,\n",
       "              'ir100': 0.36285912352477906,\n",
       "              'ir200': 0.23948206406543804},\n",
       "             'upsampling': {'ir50': 0.2865335565588291,\n",
       "              'ir100': 0.20931176496768128,\n",
       "              'ir200': 0.1644216222425388}})"
      ]
     },
     "execution_count": 47,
     "metadata": {},
     "output_type": "execute_result"
    }
   ],
   "source": [
    "import sklearn\n",
    "result_files = glob.glob(f'./*/logs/*/results/predictions.csv')\n",
    "pattern = re.compile('\\./(?P<data_name>.*?)/logs/(?P<experiment_name>.*?)/results/predictions\\.csv')\n",
    "d_mcc = defaultdict(dict)\n",
    "d_kapa = defaultdict(dict)\n",
    "\n",
    "for path in result_files:\n",
    "    m = re.match(pattern, path)\n",
    "    data_name = m.group('data_name')\n",
    "    exper_name = m.group('experiment_name')\n",
    "    print(f'Experiment on Adult {data_name} with {exper_name}')\n",
    "    df = pd.read_csv(path)\n",
    "    th = 0.8\n",
    "    df['scores'] = 1*(df['scores']>=th)\n",
    "    mcc = sklearn.metrics.matthews_corrcoef(df['labels'], df['scores'])\n",
    "    kapa = sklearn.metrics.cohen_kappa_score(df['labels'], df['scores'])\n",
    "    d_mcc[exper_name][data_name] = mcc\n",
    "    d_kapa[exper_name][data_name] = kapa\n",
    "#     print(val)\n",
    "#     print(df.head(10))\n",
    "#     break\n",
    "d_mcc"
   ]
  },
  {
   "cell_type": "markdown",
   "metadata": {},
   "source": [
    "# Embeddings"
   ]
  },
  {
   "cell_type": "code",
   "execution_count": 76,
   "metadata": {},
   "outputs": [],
   "source": [
    "from datasets import TableDataset\n",
    "\n",
    "tr = TableDataset.from_npz(['./ir100/adult_ir100.tra.npz', './ir100/adult_ir100.hout.npz'])\n",
    "tst = TableDataset.from_npz('./ir100/adult_ir100.tst.npz')\n",
    "smt = TableDataset.from_npz('./ir100/adult_ir100.smt.npz')\n",
    "hout = TableDataset.from_npz('./ir100/adult_ir100.hout.npz')\n"
   ]
  },
  {
   "cell_type": "code",
   "execution_count": 44,
   "metadata": {},
   "outputs": [
    {
     "data": {
      "text/plain": [
       "array([0., 0., 0., ..., 0., 0., 0.], dtype=float32)"
      ]
     },
     "execution_count": 44,
     "metadata": {},
     "output_type": "execute_result"
    }
   ],
   "source": [
    "tst.target.numpy()"
   ]
  },
  {
   "cell_type": "code",
   "execution_count": 36,
   "metadata": {},
   "outputs": [
    {
     "name": "stderr",
     "output_type": "stream",
     "text": [
      "../visualization_utils.py:24: UserWarning: To copy construct from a tensor, it is recommended to use sourceTensor.clone().detach() or sourceTensor.clone().detach().requires_grad_(True), rather than torch.tensor(sourceTensor).\n",
      "  features = torch.cat([torch.tensor(tb.data) for tb in data.values()])\n"
     ]
    }
   ],
   "source": [
    "from visualization_utils import projection\n",
    "\n",
    "projection(data = {'tst': tst, 'hout':hout}, logdir='./ir100')"
   ]
  },
  {
   "cell_type": "code",
   "execution_count": 38,
   "metadata": {},
   "outputs": [
    {
     "name": "stderr",
     "output_type": "stream",
     "text": [
      "../visualization_utils.py:24: UserWarning: To copy construct from a tensor, it is recommended to use sourceTensor.clone().detach() or sourceTensor.clone().detach().requires_grad_(True), rather than torch.tensor(sourceTensor).\n",
      "  features = torch.cat([torch.tensor(tb.data) for tb in data.values()])\n"
     ]
    }
   ],
   "source": [
    "projection(data = {'tst': tst, 'smt':smt}, logdir='./ir100', name='proj-tst-smt')"
   ]
  },
  {
   "cell_type": "code",
   "execution_count": 39,
   "metadata": {},
   "outputs": [],
   "source": [
    "projection(data = {'tst': tst}, logdir='./ir100', name='proj-tst')"
   ]
  },
  {
   "cell_type": "code",
   "execution_count": 82,
   "metadata": {},
   "outputs": [
    {
     "data": {
      "text/plain": [
       "Text(0.5, 1.0, 'PCA of IRIS dataset')"
      ]
     },
     "execution_count": 82,
     "metadata": {},
     "output_type": "execute_result"
    },
    {
     "data": {
      "image/png": "[encoded data removed]",
      "text/plain": [
       "<Figure size 432x288 with 1 Axes>"
      ]
     },
     "metadata": {
      "needs_background": "light"
     },
     "output_type": "display_data"
    }
   ],
   "source": [
    "from sklearn import decomposition \n",
    "import matplotlib.pyplot as plt\n",
    "\n",
    "pca = decomposition.PCA(n_components=2)\n",
    "pca.fit(tr.data.numpy())\n",
    "X = pca.transform(tst.data.numpy())\n",
    "y =tst.target.numpy()\n",
    "\n",
    "x_smt = pca.transform(smt.data.numpy())[:300]\n",
    "y_smt = smt.target.numpy()[:300]\n",
    "\n",
    "x_hout = pca.transform(hout.data.numpy())[:300]\n",
    "y_hout = hout.target.numpy()[:300]\n",
    "\n",
    "plt.figure()\n",
    "colors = ['blue', 'red']\n",
    "lw = 0.1\n",
    "target_names = ['majority', 'minority']\n",
    "\n",
    "plt.scatter(X[y == 0, 0], X[y == 0, 1], color='blue', alpha=.8, lw=lw,\n",
    "                label='majority')\n",
    "# plt.scatter(x_smt[y_smt == 1, 0], x_smt[y_smt == 1, 1], color='green', alpha=0.8, lw=lw,\n",
    "#                 label='smote')\n",
    "plt.scatter(X[y == 1, 0], X[y == 1, 1], color='red', alpha=.8, lw=lw,\n",
    "                label='minority')\n",
    "\n",
    "# plt.scatter(x_hout[y_hout == 1, 0], x_hout[y_hout == 1, 1], color='pink', alpha=0.8, lw=lw,\n",
    "#                 label='smote')\n",
    "\n",
    "plt.legend(loc='best', shadow=False, scatterpoints=1)\n",
    "plt.title('PCA of Adult dataset')\n"
   ]
  },
  {
   "cell_type": "code",
   "execution_count": 57,
   "metadata": {},
   "outputs": [],
   "source": []
  },
  {
   "cell_type": "code",
   "execution_count": 50,
   "metadata": {},
   "outputs": [
    {
     "data": {
      "text/plain": [
       "array([0., 0., 0., ..., 0., 0., 0.], dtype=float32)"
      ]
     },
     "execution_count": 50,
     "metadata": {},
     "output_type": "execute_result"
    }
   ],
   "source": [
    "y"
   ]
  }
 ],
 "metadata": {
  "kernelspec": {
   "display_name": "Python 3",
   "language": "python",
   "name": "python3"
  },
  "language_info": {
   "codemirror_mode": {
    "name": "ipython",
    "version": 3
   },
   "file_extension": ".py",
   "mimetype": "text/x-python",
   "name": "python",
   "nbconvert_exporter": "python",
   "pygments_lexer": "ipython3",
   "version": "3.8.2"
  }
 },
 "nbformat": 4,
 "nbformat_minor": 4
}
