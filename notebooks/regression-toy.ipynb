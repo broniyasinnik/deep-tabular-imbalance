{
 "cells": [
  {
   "cell_type": "code",
   "execution_count": 3,
   "metadata": {
    "tags": []
   },
   "outputs": [],
   "source": [
    "import torch\n",
    "import numpy as np\n",
    "import torch.nn as nn\n",
    "import torch.nn.functional as F\n",
    "from torch.autograd import grad\n",
    "import matplotlib.pyplot as plt\n",
    "import seaborn as sbs\n",
    "import pickle\n",
    "from copy import deepcopy\n",
    "import logging\n",
    "logging.basicConfig(format='%(levelname)s:%(message)s', filename='info.log', level=logging.INFO)\n",
    "sbs.set_style('darkgrid')\n",
    "\n",
    "%matplotlib widget\n",
    "# %matplotlib inline"
   ]
  },
  {
   "cell_type": "code",
   "execution_count": 4,
   "metadata": {},
   "outputs": [],
   "source": [
    "\n",
    "class SineWave:\n",
    "    \n",
    "    def __init__(self, train_size=10, valid_size=5, synth_size=5, noise=0.1):\n",
    "        self.a = np.random.uniform(0.1, 5.0)\n",
    "        self.b = np.random.uniform(0, 2*np.pi)\n",
    "        self.resample(train_size, valid_size, synth_size, noise)\n",
    "       \n",
    "       \n",
    "        \n",
    "    def f(self, x):\n",
    "        return self.a * np.sin(x + self.b)\n",
    "        \n",
    "    def sample(self, size=10):\n",
    "        x = np.random.uniform(-5, 5, size)\n",
    "        y = self.f(x)\n",
    "        return dict(x=torch.Tensor(x), y=torch.Tensor(y))\n",
    "    \n",
    "    def resample(self, train_size, valid_size, synth_size, noise):\n",
    "        self.train_set = dict(x=torch.empty(0), y=torch.empty(0))\n",
    "        self.valid_set = dict(x=torch.empty(0), y=torch.empty(0))\n",
    "        self.synth_set = dict(x=torch.empty(0), y=torch.empty(0))\n",
    "        self.z_set = dict(x=torch.empty(0), y=torch.empty(0))\n",
    "        if train_size>0:\n",
    "            self.train_set = self.sample(train_size)\n",
    "        if valid_size>0:\n",
    "            self.valid_set = self.sample(valid_size)\n",
    "        if synth_size>0:\n",
    "            self.synth_set = self.sample(synth_size)\n",
    "#             self.synth_set['y'] = self.a * (2*torch.rand(self.synth_set['y'].shape)-1)\n",
    "            self.synth_set['x']  = torch.normal(self.synth_set['x'], noise)\n",
    "            \n",
    "    \n",
    "    def test_set(self, start=-5, stop=5, num=100):\n",
    "        x = np.linspace(start, stop, num)\n",
    "        y = self.f(x)\n",
    "        return torch.Tensor(x), torch.Tensor(y)\n",
    "   \n",
    "    def save(self, path: str = 'wave.pickle'):\n",
    "        with open(path, 'wb') as f:\n",
    "            # Pickle the 'data'  using the highest protocol available.\n",
    "            pickle.dump(self, f, pickle.HIGHEST_PROTOCOL)\n",
    "            \n",
    "    def plot(self, *args, **kwargs):\n",
    "        plots = []\n",
    "        legends = []\n",
    "        \n",
    "        if self.train_set['y'].nelement() > 0:\n",
    "            train, = plt.plot(self.train_set['x'].numpy(), self.train_set['y'].numpy(), 'b^')\n",
    "            plots.append(train)\n",
    "            legends.append('Training Points')\n",
    "        \n",
    "        if self.synth_set['y'].nelement() > 0:\n",
    "            synth, = plt.plot(self.synth_set['x'], self.synth_set['y'], 'ro')\n",
    "            plots.append(synth)\n",
    "            legends.append('Synthetic Points')\n",
    "        \n",
    "        if self.valid_set['y'].nelement() > 0:\n",
    "            valid, = plt.plot(self.valid_set['x'], self.valid_set['y'], 'bx')\n",
    "            plots.append(valid)\n",
    "            legends.append('Validation Points')\n",
    "        \n",
    "        x, y = self.test_set()\n",
    "        test, = plt.plot(x.numpy(), y.numpy(), 'g', *args, **kwargs)\n",
    "        plots.append(test)\n",
    "        legends.append(\"True Function\")\n",
    "        plt.legend(plots, legends)\n",
    "\n"
   ]
  },
  {
   "cell_type": "code",
   "execution_count": 5,
   "metadata": {},
   "outputs": [],
   "source": [
    "\n",
    "\n",
    "def load_wave(path: str = 'wave.pickle'):\n",
    "    with open(path, 'rb') as f:\n",
    "        self = pickle.load(f)\n",
    "    return self\n",
    "    \n",
    "\n",
    "@torch.no_grad()\n",
    "def armijo_step(model, gradients: torch.Tensor, steps: int, lr_meta: float, x: torch.Tensor, y: torch.Tensor):\n",
    "    num_coords = len(gradients)\n",
    "    lr = torch.tensor([lr_meta / (2 ** i) for i in range(steps)], dtype=torch.float32)\n",
    "    lr_total = lr_meta * torch.ones(num_coords)\n",
    "\n",
    "    for k in range(40):\n",
    "        for i in range(num_coords):\n",
    "            loss = 1e9 * torch.ones(steps)\n",
    "            for j in range(steps):\n",
    "                lr_total[i] = lr[j]\n",
    "                logits = model(x, lr_total, gradients)\n",
    "                loss[j] = F.mse_loss(logits, y.reshape_as(logits))\n",
    "            lr_total[i] = lr[torch.argmin(loss)]\n",
    "    return lr_total\n",
    "\n",
    "class SineModel(nn.Module):\n",
    "    def __init__(self):\n",
    "        super().__init__()\n",
    "        self.hidden1 = nn.Linear(1, 40)\n",
    "        self.hidden2 = nn.Linear(40, 40)\n",
    "        self.out = nn.Linear(40, 1)\n",
    "        \n",
    "    def save(self, path: str = 'model.pt'):\n",
    "        torch.save(self.state_dict(), path)\n",
    "        \n",
    "    def forward(self, x, lr=None, gradients=None):\n",
    "        if gradients is not None:\n",
    "            layer1_weight = self.hidden1.weight - lr[0] * gradients[0]\n",
    "            layer1_bias = self.hidden1.bias - lr[1] * gradients[1]\n",
    "            layer2_weight = self.hidden2.weight - lr[2] * gradients[2]\n",
    "            layer2_bias = self.hidden2.bias - lr[3] * gradients[3]\n",
    "            out_weight = self.out.weight - lr[4] * gradients[4]\n",
    "            out_bias = self.out.bias - lr[5] * gradients[5]\n",
    "            x = F.relu(F.linear(x, layer1_weight, layer1_bias))\n",
    "            x = F.relu(F.linear(x, layer2_weight, layer2_bias))\n",
    "            x = F.linear(x, out_weight, out_bias)\n",
    "            return x\n",
    "            \n",
    "        else:\n",
    "            x = F.relu(self.hidden1(x))\n",
    "            x = F.relu(self.hidden2(x))\n",
    "            return self.out(x)\n",
    "    \n",
    "    def gradient_step_(self, lr, gradients):\n",
    "        self.hidden1.weight.data = self.hidden1.weight.data - lr[0] * gradients[0]\n",
    "        self.hidden1.bias.data = self.hidden1.bias.data - lr[1] * gradients[1]\n",
    "        self.hidden2.weight.data = self.hidden2.weight.data - lr[2] * gradients[2]\n",
    "        self.hidden2.bias.data = self.hidden2.bias.data - lr[3] * gradients[3]\n",
    "        self.out.weight.data = self.out.weight.data - lr[4] * gradients[4]\n",
    "        self.out.bias.data = self.out.bias.data - lr[5] * gradients[5]\n",
    "        \n",
    "    def named_submodules(self):\n",
    "        return [('hidden1', self.hidden1), ('hidden2', self.hidden2), ('out', self.out)]"
   ]
  },
  {
   "cell_type": "code",
   "execution_count": 6,
   "metadata": {},
   "outputs": [],
   "source": [
    "from IPython import display\n",
    "\n",
    "\n",
    "def fit(wave, net, epochs=10, use_valid=False):\n",
    "    x_train, y_train = wave.train_set.values()\n",
    "    x_valid, y_valid = torch.empty(0), torch.empty(0)\n",
    "    if use_valid:\n",
    "        x_valid, y_valid = wave.valid_set.values()\n",
    "    x = torch.cat([x_train, x_valid])\n",
    "    y = torch.cat([y_train, y_valid])\n",
    " \n",
    "    optim = torch.optim.Adam(net.parameters(), lr=0.01)\n",
    "    fig, ax = plt.subplots()\n",
    "    for epoch in range(1, epochs+1):\n",
    "        display.clear_output(wait=True)\n",
    "        display.display(plt.gcf())\n",
    "        plt.pause(0.1)\n",
    "        optim.zero_grad()\n",
    "        loss = F.mse_loss(net(x[:, None]), y.unsqueeze(1))\n",
    "        print(f\"Loss at epoch #{epoch}: {loss.data}\")\n",
    "        loss.backward()\n",
    "        optim.step()\n",
    "        ax.cla()\n",
    "        plot_sine_test(ax, wave, net, show_synth=False)\n",
    "\n",
    "def fit_meta(wave, net, lr_meta=1e-2, lr_z=10, epochs=10):\n",
    "    x_train, y_train = wave.train_set.values()\n",
    "    x_valid, y_valid = wave.valid_set.values()\n",
    "    x_all, y_all = torch.cat([x_train, x_valid]), torch.cat([y_train, y_valid])\n",
    "    x_synth, y_synth = wave.synth_set.values()\n",
    "    z = x_synth.clone().detach().requires_grad_(True)\n",
    "    wave.z_set = dict(x=x_synth, y=y_synth)\n",
    "    optimizer_z = torch.optim.SGD([z], lr=lr_z)\n",
    "    fig, ax = plt.subplots()\n",
    "    for epoch in range(1, epochs+1):\n",
    "        display.clear_output(wait=True)\n",
    "        display.display(plt.gcf())\n",
    "        plt.pause(0.1)\n",
    "        \n",
    "        y_hat_z = net(z[:, None])\n",
    "        loss_z = F.mse_loss(y_hat_z, y_synth.reshape_as(y_hat_z))\n",
    "        \n",
    "        \n",
    "        grad_z = grad(loss_z, net.parameters(), create_graph=True)\n",
    "    \n",
    "        # Create emulated network\n",
    "        lr = armijo_step(net, grad_z, steps=5, lr_meta=lr_meta, x=x_all[:, None], y=y_all)\n",
    "        logging.info(f\"Epoch {epoch} armijo lr:{lr}\")\n",
    "        optimizer_z.zero_grad()\n",
    "        logits = net(x_all[:, None], lr=lr, gradients=grad_z)\n",
    "        loss = F.mse_loss(logits, y_all.reshape_as(logits))\n",
    "        loss.backward()\n",
    "        optimizer_z.step() # Updating z\n",
    "        wave.z_set['x'] = z.clone().detach() # Saving new z\n",
    "        \n",
    "        y_hat_x = net(x_all[:, None])\n",
    "        loss_x = F.mse_loss(y_hat_x, y_all.reshape_as(y_hat_x))\n",
    "        if (loss < loss_x):\n",
    "            logging.info(f\"Epoch {epoch} Update Model {loss:.3} < {loss_x:.3}\")\n",
    "            net.gradient_step_(lr, grad_z) # Save emulated network\n",
    "        else:\n",
    "            ...\n",
    "        \n",
    "        ax.cla()\n",
    "        plot_sine_test(ax, wave, net)\n",
    "\n",
    "\n",
    "    \n",
    "        \n",
    "@torch.no_grad()\n",
    "def eval_net(wave, net):\n",
    "    x, _ = wave.test_set()\n",
    "    y = net(x[:, None])\n",
    "    return x.squeeze().numpy(), y.squeeze().numpy()\n",
    "\n",
    "def plot_sine_test(ax, wave, net, show_synth=True):\n",
    "    \n",
    "    \n",
    "    xtrain, ytrain = wave.train_set.values()\n",
    "    xvalid, yvalid = wave.valid_set.values()\n",
    "    xsynth, ysynth = wave.synth_set.values()\n",
    "    z, yz = wave.z_set.values()\n",
    "    \n",
    "    start = torch.min(torch.cat([xtrain, xvalid, xsynth, z]))-0.5\n",
    "    stop = torch.max(torch.cat([xtrain, xvalid, xsynth, z]))+0.5\n",
    "    xtest, ytest = wave.test_set(start, stop)\n",
    "    \n",
    "    _, res = eval_net(wave, net)\n",
    "    \n",
    "    ax.plot(xtrain.numpy(), ytrain.numpy(), 'b^', label='Training Points')\n",
    "    ax.plot(xtest.numpy(), ytest.numpy(), 'g', label='True Function')\n",
    "    ax.plot(xvalid.numpy(), yvalid.numpy(), 'bx', label='Validation Points')\n",
    "    if hasattr(wave, 'z_set') and show_synth:\n",
    "        \n",
    "        ax.plot(z.numpy(), yz.numpy(), 'ro', label='Synthetic Points')\n",
    "        \n",
    "    ax.plot(xtest.numpy(), res, 'C1--', label=\"Model\")    \n",
    "    ax.legend()\n"
   ]
  },
  {
   "cell_type": "markdown",
   "metadata": {},
   "source": [
    "### Sine Wave Dataset"
   ]
  },
  {
   "cell_type": "code",
   "execution_count": null,
   "metadata": {},
   "outputs": [],
   "source": [
    "wave = SineWave(train_size=5,  valid_size=5, synth_size=10, noise=0.2)\n",
    "wave.save('wave.pickle')"
   ]
  },
  {
   "cell_type": "code",
   "execution_count": 7,
   "metadata": {},
   "outputs": [
    {
     "data": {
      "application/vnd.jupyter.widget-view+json": {
       "model_id": "3efae13e48c34aaa847d6ffb84bf106c",
       "version_major": 2,
       "version_minor": 0
      },
      "text/plain": [
       "Canvas(toolbar=Toolbar(toolitems=[('Home', 'Reset original view', 'home', 'home'), ('Back', 'Back to previous …"
      ]
     },
     "metadata": {},
     "output_type": "display_data"
    }
   ],
   "source": [
    "wave = load_wave('wave.pickle')\n",
    "plt.close('all')\n",
    "wave.plot()"
   ]
  },
  {
   "cell_type": "markdown",
   "metadata": {},
   "source": [
    "### Fitting the baseline net on train and validation "
   ]
  },
  {
   "cell_type": "code",
   "execution_count": null,
   "metadata": {
    "tags": []
   },
   "outputs": [],
   "source": [
    "net = SineModel()\n",
    "wave = load_wave('wave.pickle')\n",
    "fit(wave, net, epochs=100, use_valid=True)\n",
    "net.save('baseline.pt')"
   ]
  },
  {
   "cell_type": "code",
   "execution_count": 8,
   "metadata": {},
   "outputs": [
    {
     "data": {
      "application/vnd.jupyter.widget-view+json": {
       "model_id": "bfdce62968b44632882c74da652cb335",
       "version_major": 2,
       "version_minor": 0
      },
      "text/plain": [
       "Canvas(toolbar=Toolbar(toolitems=[('Home', 'Reset original view', 'home', 'home'), ('Back', 'Back to previous …"
      ]
     },
     "metadata": {},
     "output_type": "display_data"
    }
   ],
   "source": [
    "net = SineModel()\n",
    "net.load_state_dict(torch.load('baseline.pt'))\n",
    "plt.close('all')\n",
    "fig, ax = plt.subplots()\n",
    "plot_sine_test(ax, wave, net, show_synth=False)\n"
   ]
  },
  {
   "cell_type": "markdown",
   "metadata": {},
   "source": [
    "### Fitting the model on train set only"
   ]
  },
  {
   "cell_type": "code",
   "execution_count": null,
   "metadata": {},
   "outputs": [],
   "source": [
    "net = SineModel()\n",
    "wave = load_wave('wave.pickle')\n",
    "fit(wave, net, epochs=100, use_valid=False)\n",
    "net.save('model.pt')"
   ]
  },
  {
   "cell_type": "code",
   "execution_count": 9,
   "metadata": {},
   "outputs": [
    {
     "data": {
      "application/vnd.jupyter.widget-view+json": {
       "model_id": "446334c331f64d46bef7c93a83e50b97",
       "version_major": 2,
       "version_minor": 0
      },
      "text/plain": [
       "Canvas(toolbar=Toolbar(toolitems=[('Home', 'Reset original view', 'home', 'home'), ('Back', 'Back to previous …"
      ]
     },
     "metadata": {},
     "output_type": "display_data"
    }
   ],
   "source": [
    "net = SineModel()\n",
    "net.load_state_dict(torch.load('model.pt'))\n",
    "plt.close('all')\n",
    "fig, ax = plt.subplots()\n",
    "plot_sine_test(ax, wave, net, show_synth=False)\n"
   ]
  },
  {
   "cell_type": "markdown",
   "metadata": {},
   "source": [
    "### Fitting the model with meta training on synthtetic dataset"
   ]
  },
  {
   "cell_type": "code",
   "execution_count": null,
   "metadata": {},
   "outputs": [],
   "source": [
    "wave = load_wave('wave.pickle')\n",
    "net = SineModel()\n",
    "net.load_state_dict(torch.load('model.pt'))\n",
    "fit_meta(wave, net, lr_z=10, lr_meta=1e-2, epochs=1000)\n",
    "net.save('model_meta.pt')\n",
    "wave.save()"
   ]
  },
  {
   "cell_type": "code",
   "execution_count": 10,
   "metadata": {},
   "outputs": [
    {
     "data": {
      "application/vnd.jupyter.widget-view+json": {
       "model_id": "8f422b8a4aaa4c7f9e60a9afd36d620d",
       "version_major": 2,
       "version_minor": 0
      },
      "text/plain": [
       "Canvas(toolbar=Toolbar(toolitems=[('Home', 'Reset original view', 'home', 'home'), ('Back', 'Back to previous …"
      ]
     },
     "metadata": {},
     "output_type": "display_data"
    }
   ],
   "source": [
    "wave = load_wave('wave.pickle')\n",
    "net = SineModel()\n",
    "net.load_state_dict(torch.load('model_meta.pt'))\n",
    "plt.close('all')\n",
    "fig, ax = plt.subplots()\n",
    "plot_sine_test(ax, wave, net)"
   ]
  }
 ],
 "metadata": {
  "kernelspec": {
   "display_name": "Python 3.8 (XPython)",
   "language": "python",
   "name": "xpython"
  },
  "language_info": {
   "file_extension": ".py",
   "mimetype": "text/x-python",
   "name": "python",
   "version": "3.8.8"
  }
 },
 "nbformat": 4,
 "nbformat_minor": 4
}
