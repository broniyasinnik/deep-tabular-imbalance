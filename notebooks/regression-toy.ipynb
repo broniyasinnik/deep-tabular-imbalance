{
 "cells": [
  {
   "cell_type": "code",
   "execution_count": 24,
   "metadata": {
    "tags": []
   },
   "outputs": [],
   "source": [
    "import torch\n",
    "import numpy as np\n",
    "import torch.nn as nn\n",
    "import torch.nn.functional as F\n",
    "from torch.autograd import grad\n",
    "import matplotlib.pyplot as plt\n",
    "import seaborn as sbs\n",
    "sbs.set_style('darkgrid')\n",
    "\n",
    "%matplotlib widget"
   ]
  },
  {
   "cell_type": "code",
   "execution_count": 27,
   "metadata": {},
   "outputs": [],
   "source": [
    "\n",
    "class SineWave:\n",
    "    \n",
    "    def __init__(self, train_size=10, valid_size=5, synth_size=5):\n",
    "        self.a = np.random.uniform(0.1, 5.0)\n",
    "        self.b = np.random.uniform(0, 2*np.pi)\n",
    "        self.resample(train_size, valid_size, synth_size)\n",
    "       \n",
    "       \n",
    "        \n",
    "    def f(self, x):\n",
    "        return self.a * np.sin(x + self.b)\n",
    "        \n",
    "    def sample(self, size=10):\n",
    "        x = np.random.uniform(-5, 5, size)\n",
    "        y = self.f(x)\n",
    "        return dict(x=torch.Tensor(x), y=torch.Tensor(y))\n",
    "    \n",
    "    def resample(self, train_size=None, valid_size=None, synth_size=None):\n",
    "        if train_size is not None:\n",
    "            self.train_set = self.sample(train_size)\n",
    "        if valid_size is not None:\n",
    "            self.valid_set = self.sample(valid_size)\n",
    "        if synth_size is not None:\n",
    "            self.synth_set = self.sample(synth_size)\n",
    "            self.synth_set['y'] = self.a * (2*torch.rand(self.synth_set['y'].shape)-1)\n",
    "            \n",
    "            \n",
    "    \n",
    "    def test_set(self):\n",
    "        x = np.linspace(-5, 5, 100)\n",
    "        y = self.f(x)\n",
    "        return torch.Tensor(x), torch.Tensor(y)\n",
    "        \n",
    "    def plot(self, *args, **kwargs):\n",
    "        plots = []\n",
    "        legends = []\n",
    "       \n",
    "        train, = plt.plot(self.train_set['x'].numpy(), self.train_set['y'].numpy(), '^')\n",
    "        plots.append(train)\n",
    "        legends.append('Training Points')\n",
    "   \n",
    "        synth, = plt.plot(self.synth_set['x'], self.synth_set['y'], 'x')\n",
    "        plots.append(synth)\n",
    "        legends.append('Synthetic Points')\n",
    "        x, y = self.test_set()\n",
    "        test, = plt.plot(x.numpy(), y.numpy(), *args, **kwargs)\n",
    "        plots.append(test)\n",
    "        legends.append(\"True Function\")\n",
    "        plt.legend(plots, legends)\n",
    "\n"
   ]
  },
  {
   "cell_type": "code",
   "execution_count": 28,
   "metadata": {},
   "outputs": [],
   "source": [
    "class SineModel(nn.Module):\n",
    "    def __init__(self):\n",
    "        super().__init__()\n",
    "        self.hidden1 = nn.Linear(1, 40)\n",
    "        self.hidden2 = nn.Linear(40, 40)\n",
    "        self.out = nn.Linear(40, 1)\n",
    "        \n",
    "    def forward(self, x, lr=None, gradients=None):\n",
    "        if gradients is not None:\n",
    "            layer1_weight = self.hidden1.weight - lr * gradients[0]\n",
    "            layer1_bias = self.hidden1.bias.data - lr * gradients[1]\n",
    "            layer2_weight = self.hidden2.weight.data - lr * gradients[2]\n",
    "            layer2_bias = self.hidden2.bias.data - lr * gradients[3]\n",
    "            out_weight = self.out.weight.data - lr * gradients[4]\n",
    "            out_bias = self.out.bias.data - lr * gradients[5]\n",
    "            x = F.relu(F.linear(x, layer1_weight, layer1_bias))\n",
    "            x = F.relu(F.linear(x, layer2_weight, layer2_bias))\n",
    "            x = F.linear(x, out_weight, out_bias)\n",
    "            return x\n",
    "            \n",
    "        else:\n",
    "            x = F.relu(self.hidden1(x))\n",
    "            x = F.relu(self.hidden2(x))\n",
    "            return self.out(x)\n",
    "    \n",
    "    def gradient_step_(self, lr, gradients):\n",
    "        self.hidden1.weight.data = self.hidden1.weight.data - lr * gradients[0]\n",
    "        self.hidden1.bias.data = self.hidden1.bias.data - lr * gradients[1]\n",
    "        self.hidden2.weight.data = self.hidden2.weight.data - lr * gradients[2]\n",
    "        self.hidden2.bias.data = self.hidden2.bias.data - lr * gradients[3]\n",
    "        self.out.weight.data = self.out.weight.data - lr * gradients[4]\n",
    "        self.out.bias.data = self.out.bias.data - lr * gradients[5]\n",
    "        \n",
    "    def named_submodules(self):\n",
    "        return [('hidden1', self.hidden1), ('hidden2', self.hidden2), ('out', self.out)]"
   ]
  },
  {
   "cell_type": "code",
   "execution_count": 41,
   "metadata": {},
   "outputs": [],
   "source": [
    "from IPython import display\n",
    "\n",
    "def fit(wave, net, epochs=10):\n",
    "    x_train, y_train = wave.train_set.values()\n",
    "    x_valid, y_valid = wave.valid_set.values()\n",
    "    x = torch.cat([x_train, x_valid])\n",
    "    y = torch.cat([y_train, y_valid])\n",
    "    optim = torch.optim.Adam(net.parameters(), lr=0.01)\n",
    "    fig, ax = plt.subplots()\n",
    "    for epoch in range(1, epochs+1):\n",
    "        display.clear_output(wait=True)\n",
    "        display.display(plt.gcf())\n",
    "        plt.pause(0.1)\n",
    "        optim.zero_grad()\n",
    "        loss = F.mse_loss(net(x[:, None]), y.unsqueeze(1))\n",
    "        print(f\"Loss at epoch #{epoch}: {loss.data}\")\n",
    "        loss.backward()\n",
    "        optim.step()\n",
    "        ax.cla()\n",
    "        plot_sine_test(ax, wave, net, show_synth=False)\n",
    "\n",
    "def fit_meta(wave, net, lr_meta=1e-2, lr_z=5, epochs=10):\n",
    "    x_train, y_train = wave.train_set.values()\n",
    "    x_valid, y_valid = wave.valid_set.values()\n",
    "    x_synth, y_synth = wave.synth_set.values()\n",
    "    z = x_synth.clone().detach().requires_grad_(True)\n",
    "    optimizer = torch.optim.SGD([z], lr=lr_z, momentum=0)\n",
    "    fig, ax = plt.subplots()\n",
    "    for epoch in range(1, epochs+1):\n",
    "        display.clear_output(wait=True)\n",
    "        display.display(plt.gcf())\n",
    "        plt.pause(0.1)\n",
    "        optimizer.zero_grad()\n",
    "        y_hat = net(x_train[:, None])\n",
    "        loss_real = F.mse_loss(y_hat, y_train.reshape_as(y_hat))\n",
    "        grad_real = grad(loss_real, net.parameters())\n",
    "        print(f\"Loss Epoch:#{epoch} on training {loss_real:.3}\", end=\", \")\n",
    "        \n",
    "        y_z = net(z[:, None])\n",
    "        loss_z = F.mse_loss(y_z, y_synth.reshape_as(y_z))\n",
    "        grad_synth = grad(loss_z, net.parameters(), create_graph=True)\n",
    "        \n",
    "        gradients = tuple(grad_real[i] + grad_synth[i] for i in range(len(grad_synth)))\n",
    "        logits = net(x_valid[:, None], lr=lr_meta, gradients=gradients)\n",
    "        loss_valid = F.mse_loss(logits, y_valid.reshape_as(logits))\n",
    "        loss_valid.backward()\n",
    "        print(f\"Loss on validation {loss_valid:.3}\")\n",
    "        optimizer.step()\n",
    "        net.gradient_step_(lr=lr_meta, gradients=gradients)\n",
    "        ax.cla()\n",
    "        wave.synth_set['x'] = z.clone().detach()\n",
    "        plot_sine_test(ax, wave, net)\n",
    "\n",
    " \n",
    "#     return fig, ax\n",
    "    \n",
    "    \n",
    "        \n",
    "@torch.no_grad()\n",
    "def eval_net(wave, net):\n",
    "    x, _ = wave.test_set()\n",
    "    y = net(x[:, None])\n",
    "    return x.squeeze().numpy(), y.squeeze().numpy()\n",
    "\n",
    "def plot_sine_test(ax, wave, net, show_synth=True):\n",
    "    \n",
    "    xtest, ytest = wave.test_set()\n",
    "    xtrain, ytrain = wave.train_set.values()\n",
    "    xvalid, yvalid = wave.valid_set.values()\n",
    "    xsynth, ysynth = wave.synth_set.values()\n",
    "    _, res = eval_net(wave, net)\n",
    "    \n",
    "    ax.plot(xtrain.numpy(), ytrain.numpy(), '^', label='Training Points')\n",
    "    ax.plot(xtest.numpy(), ytest.numpy(), label='True Function')\n",
    "    ax.plot(xvalid.numpy(), yvalid.numpy(), '^', label='Validation Points')\n",
    "    if show_synth:\n",
    "        ax.plot(xsynth.numpy(), ysynth.numpy(), 'x', label='Synthetic Points')\n",
    "    ax.plot(xtest.numpy(), res, '--', label=\"Model\")    \n",
    "    ax.legend()\n"
   ]
  },
  {
   "cell_type": "code",
   "execution_count": 37,
   "metadata": {},
   "outputs": [],
   "source": [
    "wave = SineWave(train_size=5, valid_size=2, synth_size=5)\n",
    "wave.plot()\n",
    "plt.show()"
   ]
  },
  {
   "cell_type": "code",
   "execution_count": 42,
   "metadata": {},
   "outputs": [
    {
     "data": {
      "image/png": "[encoded data removed]",
      "text/plain": [
       "<Figure size 432x288 with 1 Axes>"
      ]
     },
     "metadata": {},
     "output_type": "display_data"
    },
    {
     "name": "stdout",
     "output_type": "stream",
     "text": [
      "Loss Epoch:#1000 on training 0.00973, Loss on validation 2.65e-06\n"
     ]
    }
   ],
   "source": [
    "net = SineModel()\n",
    "fit_meta(wave, net, epochs=1000)"
   ]
  },
  {
   "cell_type": "code",
   "execution_count": 39,
   "metadata": {
    "tags": []
   },
   "outputs": [
    {
     "data": {
      "image/png": "[encoded data removed]",
      "text/plain": [
       "<Figure size 432x288 with 1 Axes>"
      ]
     },
     "metadata": {},
     "output_type": "display_data"
    },
    {
     "name": "stdout",
     "output_type": "stream",
     "text": [
      "Loss at epoch #1000: 0.002775277476757765\n"
     ]
    }
   ],
   "source": [
    "net = SineModel()\n",
    "fit(wave, net, epochs=1000)"
   ]
  },
  {
   "cell_type": "code",
   "execution_count": 172,
   "metadata": {},
   "outputs": [
    {
     "data": {
      "application/vnd.jupyter.widget-view+json": {
       "model_id": "b66c912fe60247618aafb4480bb3e4ce",
       "version_major": 2,
       "version_minor": 0
      },
      "text/plain": [
       "Canvas(toolbar=Toolbar(toolitems=[('Home', 'Reset original view', 'home', 'home'), ('Back', 'Back to previous …"
      ]
     },
     "metadata": {},
     "output_type": "display_data"
    }
   ],
   "source": [
    "fig, ax = plt.subplots()\n"
   ]
  }
 ],
 "metadata": {
  "kernelspec": {
   "display_name": "Python 3",
   "language": "python",
   "name": "python3"
  },
  "language_info": {
   "codemirror_mode": {
    "name": "ipython",
    "version": 3
   },
   "file_extension": ".py",
   "mimetype": "text/x-python",
   "name": "python",
   "nbconvert_exporter": "python",
   "pygments_lexer": "ipython3",
   "version": "3.8.2"
  }
 },
 "nbformat": 4,
 "nbformat_minor": 4
}
